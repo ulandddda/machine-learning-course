{
 "cells": [
  {
   "cell_type": "markdown",
   "metadata": {},
   "source": [
    "# Assignment 1 - Probability, Linear Algebra, Programming, and Git\n",
    "\n",
    "## *Muxin(Yolanda) Diao*\n",
    "Netid:  *mxd*"
   ]
  },
  {
   "cell_type": "markdown",
   "metadata": {},
   "source": [
    "# Probability and Statistics Theory"
   ]
  },
  {
   "cell_type": "markdown",
   "metadata": {
    "collapsed": true
   },
   "source": [
    "## 1\n",
    "Let $f(x) = \\begin{cases}\n",
    "                0           & x < 0  \\\\\n",
    "                \\alpha x^2  & 0 \\leq x \\leq 2 \\\\\n",
    "                0           & 2 < x\n",
    "            \\end{cases}$\n",
    "            \n",
    "For what value of $\\alpha$ is $f(x)$ a valid probability density function?\n",
    "\n",
    "*Note: for all assignments, write out all equations and math for all assignments using markdown and [LaTeX](https://tobi.oetiker.ch/lshort/lshort.pdf) and show all work*"
   ]
  },
  {
   "cell_type": "markdown",
   "metadata": {},
   "source": [
    "**ANSWER**\n",
    "$$ \\int_{-\\infty}^{+\\infty} f(x)\\;\\mathrm{d}x= 1 $$\n",
    "$$ \\int_0^2 \\alpha x^2\\;\\mathrm{d}x= 1 $$\n",
    "$$ \\tfrac{1}{3} \\alpha x^3 \\Big|_0^2 = 1 $$\n",
    "$$ \\tfrac{8}{3} \\alpha = 1 $$\n",
    "$$ \\alpha = \\tfrac{3}{8} $$"
   ]
  },
  {
   "cell_type": "markdown",
   "metadata": {},
   "source": [
    "## 2\n",
    "What is the cumulative distribution function (CDF) that corresponds to the following probability distribution function? Please state the value of the CDF for all possible values of $x$.\n",
    "\n",
    "$f(x) = \\begin{cases}\n",
    "    \\frac{1}{3} & 0 < x < 3 \\\\\n",
    "    0           & \\text{otherwise}\n",
    "    \\end{cases}$"
   ]
  },
  {
   "cell_type": "markdown",
   "metadata": {},
   "source": [
    "**ANSWER**\n",
    "\n",
    "$$F(x) = \\begin{cases}\n",
    "    0 & x \\le 0 \\\\\n",
    "    \\tfrac{x}{3}           & 0 < x < 3\\\\\n",
    "    1           & x \\ge 3\n",
    "    \\end{cases}$$\n"
   ]
  },
  {
   "cell_type": "markdown",
   "metadata": {},
   "source": [
    "## 3\n",
    "For the probability distribution function for the random variable $X$,\n",
    "\n",
    "$f(x) = \\begin{cases}\n",
    "    \\frac{1}{3} & 0 < x < 3 \\\\\n",
    "    0           & \\text{otherwise}\n",
    "    \\end{cases}$\n",
    "    \n",
    "what is the (a) expected value and (b) variance of $X$. *Show all work*."
   ]
  },
  {
   "cell_type": "markdown",
   "metadata": {},
   "source": [
    "**ANSWER**\n",
    "\n",
    "(a) Expected value:\n",
    "$$ E(X) = \\int_{-\\infty}^{+\\infty} xf(x)\\;\\mathrm{d}x \\\\\n",
    "    = \\int_0^3 \\tfrac{1}{3}x\\;\\mathrm{d}x \\\\\n",
    "    = \\tfrac{1}{6} x^2 \\Big|_0^3 \\\\\n",
    "    = \\tfrac{1}{6} \\times 9 \\\\\n",
    "    = \\tfrac{3}{2}$$\n",
    "\n",
    "\n",
    "(b) Variance:\n",
    "$$ E(X^2) = \\int_{-\\infty}^{+\\infty} x^2f(x)\\;\\mathrm{d}x \\\\\n",
    "    = \\int_0^3 \\tfrac{1}{3}x^2\\;\\mathrm{d}x \\\\\n",
    "    = \\tfrac{1}{9} x^3 \\Big|_0^3 \\\\\n",
    "    = \\tfrac{1}{9} \\times 27 \\\\\n",
    "    = 3 $$\n",
    "$$ Var(X) = E(X^2) - E(X)^2 \\\\\n",
    "    = 3 - \\tfrac{3}{2}^2 \\\\\n",
    "    = \\tfrac{3}{4}$$\n"
   ]
  },
  {
   "cell_type": "markdown",
   "metadata": {},
   "source": [
    "## 4\n",
    "Consider the following table of data that provides the values of a discrete data vector $\\mathbf{x}$ of samples from the random variable $X$, where each entry in $\\mathbf{x}$ is given as $x_i$.\n",
    "\n",
    "*Table 1. Dataset N=5 observations*\n",
    "\n",
    "|        | $x_0$ | $x_1$ | $x_2$ | $x_3$ | $x_4$ |\n",
    "|------  |-------|-------|-------|-------|-------|\n",
    "|$\\textbf{x}$| 2     | 3     | 10    | -1    | -1    |\n",
    "\n",
    "What is the (a) mean, (b) variance, and the  of the data? \n",
    "\n",
    "*Show all work. Your answer should include the definition of mean, median, and variance in the context of discrete data.*"
   ]
  },
  {
   "cell_type": "markdown",
   "metadata": {},
   "source": [
    "**ANSWER**\n",
    "\n",
    "(a) Mean\n",
    "$$ \\bar{x} = \\sum\\limits_{i=0}^4 \\tfrac{x_i}{5} \\\\\n",
    "= \\tfrac{2 + 3 + 10 -1 -1}{5} \\\\\n",
    "= \\tfrac{13}{5}$$\n",
    "\n",
    "\n",
    "(b) Variance\n",
    "$$ Var(x) = E((x - \\bar{x})^2) \\\\\n",
    "= \\sum\\limits_{i=0}^4 \\tfrac{(x_i - \\tfrac{13}{5})^2}{5}\n",
    "= 16.24$$\n",
    "\n",
    "(c) Median Definition\n",
    "The definition of median for discrete data is any $x_i$ s.t. $P(X \\le x_i) \\ge 0.5 $ and $ P(X \\ge x_i) \\ge 0.5$\n",
    "(The median in this problem is 2)\n"
   ]
  },
  {
   "cell_type": "markdown",
   "metadata": {},
   "source": [
    "## 5\n",
    "Review of counting from probability theory. \n",
    "\n",
    "(a) How many different 7-place license plates are possible if the first 3 places only contain letters and the last 4 only contain numbers?\n",
    "\n",
    "(b) How many different batting orders are possible for a baseball team with 9 players?\n",
    "\n",
    "(c) How many batting orders of 5 players are possible for a team with 9 players total?\n",
    "\n",
    "(d) Let's assume this class has 26 students and we want to form project teams. How many unique teams of 3 are possible?\n",
    "\n",
    "*Hint: For each problem, determine if order matters, and if it should be calculated with or without replacement.*"
   ]
  },
  {
   "cell_type": "markdown",
   "metadata": {},
   "source": [
    "**ANSWER**\n",
    "\n",
    "(a)\n",
    "In this problem, order matters and it should be calculated with replacement.\n",
    "In the first 3 places, there are 26 alternatives and in the last 4 places, there are 10 alternatives.\n",
    "$$ n = 26^3 \\times 10^4 = 175760000 $$\n",
    "\n",
    "(b)\n",
    "In this problem, order matters and it should be calculated without replacement.\n",
    "$$ n = 9! = 362880 $$\n",
    "\n",
    "(c)\n",
    "In this problem, order matters and it should be calculated without replacement.\n",
    "$$ n = \\tfrac{9!}{(9 - 5)!} = 15120 $$\n",
    "\n",
    "(d)\n",
    "In this problem, order doesn't matter and it should be calculated without replacement.\n",
    "$$ n = \\tfrac{26!}{3!(26-3)!} = 2600 $$\n"
   ]
  },
  {
   "cell_type": "markdown",
   "metadata": {},
   "source": [
    "# Linear Algebra"
   ]
  },
  {
   "cell_type": "markdown",
   "metadata": {},
   "source": [
    "## 6\n",
    "**Matrix manipulations and multiplication**. Machine learning involves working with many matrices, so this exercise will provide you with the opportunity to practice those skills.\n",
    "\n",
    "Let\n",
    "$\\mathbf{A} =  \\begin{bmatrix}\n",
    "1 & 2 & 3 \\\\\n",
    "2 & 4 & 5 \\\\\n",
    "3 & 5 & 6 \n",
    "\\end{bmatrix}$, $\\mathbf{b} =  \\begin{bmatrix}\n",
    "-1  \\\\\n",
    "3  \\\\\n",
    "8  \n",
    "\\end{bmatrix}$, $\\mathbf{c} =  \\begin{bmatrix}\n",
    "4  \\\\\n",
    "-3  \\\\\n",
    "6  \n",
    "\\end{bmatrix}$, and $\\mathbf{I} =  \\begin{bmatrix}\n",
    "1 & 0 & 0 \\\\\n",
    "0 & 1 & 0 \\\\\n",
    "0 & 0 & 1 \n",
    "\\end{bmatrix}$\n",
    "\n",
    "Compute the following or indicate that it cannot be computed:\n",
    "\n",
    "1. $\\mathbf{A}\\mathbf{A}$\n",
    "2. $\\mathbf{A}\\mathbf{A}^T$\n",
    "3. $\\mathbf{A}\\mathbf{b}$\n",
    "4. $\\mathbf{A}\\mathbf{b}^T$\n",
    "5. $\\mathbf{b}\\mathbf{A}$\n",
    "6. $\\mathbf{b}^T\\mathbf{A}$\n",
    "7. $\\mathbf{b}\\mathbf{b}$\n",
    "8. $\\mathbf{b}^T\\mathbf{b}$\n",
    "9. $\\mathbf{b}\\mathbf{b}^T$\n",
    "10. $\\mathbf{b} + \\mathbf{c}^T$\n",
    "11. $\\mathbf{b}^T\\mathbf{b}^T$\n",
    "12. $\\mathbf{A}^{-1}\\mathbf{b}$\n",
    "13. $\\mathbf{A}\\circ\\mathbf{A}$\n",
    "14. $\\mathbf{b}\\circ\\mathbf{c}$\n",
    "\n",
    "*Note: The element-wise (or Hadamard) product is the product of each element in one matrix with the corresponding element in another matrix, and is represented by the symbol \"$\\circ$\".*"
   ]
  },
  {
   "cell_type": "code",
   "execution_count": 1,
   "metadata": {},
   "outputs": [],
   "source": [
    "import numpy as np"
   ]
  },
  {
   "cell_type": "code",
   "execution_count": 2,
   "metadata": {},
   "outputs": [],
   "source": [
    "#constructing matrices\n",
    "A = np.array([[1, 2, 3], [2, 4, 5],[3, 5, 6]])\n",
    "b = np.array([-1, 3, 8]).reshape(3,1)\n",
    "c = np.array([4, -3, 6]).reshape(3,1)\n",
    "I = np.identity(3, dtype = int)"
   ]
  },
  {
   "cell_type": "markdown",
   "metadata": {},
   "source": [
    "1. $\\mathbf{A}\\mathbf{A}$"
   ]
  },
  {
   "cell_type": "code",
   "execution_count": 3,
   "metadata": {
    "scrolled": true
   },
   "outputs": [
    {
     "data": {
      "text/plain": [
       "array([[14, 25, 31],\n",
       "       [25, 45, 56],\n",
       "       [31, 56, 70]])"
      ]
     },
     "execution_count": 3,
     "metadata": {},
     "output_type": "execute_result"
    }
   ],
   "source": [
    "np.dot(A, A) "
   ]
  },
  {
   "cell_type": "markdown",
   "metadata": {},
   "source": [
    "2. $\\mathbf{A}\\mathbf{A}^T$"
   ]
  },
  {
   "cell_type": "code",
   "execution_count": 4,
   "metadata": {},
   "outputs": [
    {
     "data": {
      "text/plain": [
       "array([[14, 25, 31],\n",
       "       [25, 45, 56],\n",
       "       [31, 56, 70]])"
      ]
     },
     "execution_count": 4,
     "metadata": {},
     "output_type": "execute_result"
    }
   ],
   "source": [
    "np.dot(A, np.transpose(A)) "
   ]
  },
  {
   "cell_type": "markdown",
   "metadata": {},
   "source": [
    "3. $\\mathbf{A}\\mathbf{b}$"
   ]
  },
  {
   "cell_type": "code",
   "execution_count": 5,
   "metadata": {},
   "outputs": [
    {
     "data": {
      "text/plain": [
       "array([[29],\n",
       "       [50],\n",
       "       [60]])"
      ]
     },
     "execution_count": 5,
     "metadata": {},
     "output_type": "execute_result"
    }
   ],
   "source": [
    "np.dot(A, b) "
   ]
  },
  {
   "cell_type": "markdown",
   "metadata": {},
   "source": [
    "4. $\\mathbf{A}\\mathbf{b}^T$"
   ]
  },
  {
   "cell_type": "markdown",
   "metadata": {},
   "source": [
    "Can't be calculated."
   ]
  },
  {
   "cell_type": "markdown",
   "metadata": {},
   "source": [
    "5. $\\mathbf{b}\\mathbf{A}$"
   ]
  },
  {
   "cell_type": "markdown",
   "metadata": {},
   "source": [
    "Can't be calculated."
   ]
  },
  {
   "cell_type": "markdown",
   "metadata": {},
   "source": [
    "6. $\\mathbf{b}^T\\mathbf{A}$"
   ]
  },
  {
   "cell_type": "code",
   "execution_count": 6,
   "metadata": {},
   "outputs": [
    {
     "data": {
      "text/plain": [
       "array([[29, 50, 60]])"
      ]
     },
     "execution_count": 6,
     "metadata": {},
     "output_type": "execute_result"
    }
   ],
   "source": [
    "np.dot(np.transpose(b), A) "
   ]
  },
  {
   "cell_type": "markdown",
   "metadata": {},
   "source": [
    "7. $\\mathbf{b}\\mathbf{b}$"
   ]
  },
  {
   "cell_type": "markdown",
   "metadata": {},
   "source": [
    "Can't be calculated."
   ]
  },
  {
   "cell_type": "markdown",
   "metadata": {},
   "source": [
    "8. $\\mathbf{b}^T\\mathbf{b}$"
   ]
  },
  {
   "cell_type": "code",
   "execution_count": 7,
   "metadata": {},
   "outputs": [
    {
     "data": {
      "text/plain": [
       "array([[74]])"
      ]
     },
     "execution_count": 7,
     "metadata": {},
     "output_type": "execute_result"
    }
   ],
   "source": [
    "np.dot(np.transpose(b), b) "
   ]
  },
  {
   "cell_type": "markdown",
   "metadata": {},
   "source": [
    "9. $\\mathbf{b}\\mathbf{b}^T$"
   ]
  },
  {
   "cell_type": "code",
   "execution_count": 8,
   "metadata": {
    "scrolled": true
   },
   "outputs": [
    {
     "data": {
      "text/plain": [
       "array([[ 1, -3, -8],\n",
       "       [-3,  9, 24],\n",
       "       [-8, 24, 64]])"
      ]
     },
     "execution_count": 8,
     "metadata": {},
     "output_type": "execute_result"
    }
   ],
   "source": [
    "np.dot(b, np.transpose(b)) "
   ]
  },
  {
   "cell_type": "markdown",
   "metadata": {},
   "source": [
    "10. $\\mathbf{b} + \\mathbf{c}^T$"
   ]
  },
  {
   "cell_type": "markdown",
   "metadata": {},
   "source": [
    "Can't be calculated."
   ]
  },
  {
   "cell_type": "markdown",
   "metadata": {},
   "source": [
    "11. $\\mathbf{b}^T\\mathbf{b}^T$"
   ]
  },
  {
   "cell_type": "markdown",
   "metadata": {},
   "source": [
    "Can't be calculated."
   ]
  },
  {
   "cell_type": "markdown",
   "metadata": {},
   "source": [
    "12. $\\mathbf{A}^{-1}\\mathbf{b}$"
   ]
  },
  {
   "cell_type": "code",
   "execution_count": 9,
   "metadata": {},
   "outputs": [
    {
     "data": {
      "text/plain": [
       "array([[ 6.],\n",
       "       [ 4.],\n",
       "       [-5.]])"
      ]
     },
     "execution_count": 9,
     "metadata": {},
     "output_type": "execute_result"
    }
   ],
   "source": [
    "np.dot(np.linalg.inv(A), b)"
   ]
  },
  {
   "cell_type": "markdown",
   "metadata": {},
   "source": [
    "13. $\\mathbf{A}\\circ\\mathbf{A}$"
   ]
  },
  {
   "cell_type": "code",
   "execution_count": 10,
   "metadata": {},
   "outputs": [
    {
     "data": {
      "text/plain": [
       "array([[ 1,  4,  9],\n",
       "       [ 4, 16, 25],\n",
       "       [ 9, 25, 36]])"
      ]
     },
     "execution_count": 10,
     "metadata": {},
     "output_type": "execute_result"
    }
   ],
   "source": [
    "A*A"
   ]
  },
  {
   "cell_type": "markdown",
   "metadata": {},
   "source": [
    "14. $\\mathbf{b}\\circ\\mathbf{c}$"
   ]
  },
  {
   "cell_type": "code",
   "execution_count": 11,
   "metadata": {},
   "outputs": [
    {
     "data": {
      "text/plain": [
       "array([[-4],\n",
       "       [-9],\n",
       "       [48]])"
      ]
     },
     "execution_count": 11,
     "metadata": {},
     "output_type": "execute_result"
    }
   ],
   "source": [
    "b*c"
   ]
  },
  {
   "cell_type": "markdown",
   "metadata": {},
   "source": [
    "**ANSWER**\n",
    "\n"
   ]
  },
  {
   "cell_type": "markdown",
   "metadata": {},
   "source": [
    "## 6\n",
    "**Eigenvectors and eigenvalues**. Eigenvectors and eigenvalues are useful for some machine learning algorithms, but the concepts take time to solidly grasp. For an intuitive review of these concepts, explore this [interactive website at Setosa.io](http://setosa.io/ev/eigenvectors-and-eigenvalues/). Also, the series of linear algebra videos by Grant Sanderson of 3Brown1Blue are excellent and can be viewed on youtube [here](https://www.youtube.com/playlist?list=PLZHQObOWTQDPD3MizzM2xVFitgF8hE_ab).\n",
    "\n",
    "1. Calculate the eigenvalues and corresponding eigenvectors of matrix $\\mathbf{A}$ above, from the last question.\n",
    "2. Choose one of the eigenvector/eigenvalue pairs, $\\mathbf{v}$ and $\\lambda$, and show that $\\mathbf{A} \\mathbf{v} = \\lambda \\mathbf{v}$. Also show that this relationship extends to higher orders: $\\mathbf{A} \\mathbf{A} \\mathbf{v} = \\lambda^2 \\mathbf{v}$\n",
    "3. Show that the eigenvectors are orthogonal to one another (e.g. their inner product is zero). This is true for real, symmetric matrices."
   ]
  },
  {
   "cell_type": "markdown",
   "metadata": {},
   "source": [
    "**ANSWER**\n",
    "\n"
   ]
  },
  {
   "cell_type": "markdown",
   "metadata": {},
   "source": [
    "1. "
   ]
  },
  {
   "cell_type": "code",
   "execution_count": 12,
   "metadata": {
    "scrolled": true
   },
   "outputs": [
    {
     "data": {
      "text/plain": [
       "(array([11.34481428, -0.51572947,  0.17091519]),\n",
       " [array([-0.32798528, -0.59100905, -0.73697623]),\n",
       "  array([-0.73697623, -0.32798528,  0.59100905]),\n",
       "  array([ 0.59100905, -0.73697623,  0.32798528])])"
      ]
     },
     "execution_count": 12,
     "metadata": {},
     "output_type": "execute_result"
    }
   ],
   "source": [
    "w,v2 = np.linalg.eig(A)\n",
    "v = [v2[:,0],v2[:,1],v2[:,2]]\n",
    "w, v"
   ]
  },
  {
   "cell_type": "markdown",
   "metadata": {},
   "source": [
    "There are 3 eigenvalues and 3 responding eigenvectors. The 3 eigenvalues are 11.34481428, -0.51572947 and  0.17091519. The 3 responding eigenvectors are [-0.32798528, -0.59100905, -0.73697623],\n",
    "        [-0.73697623, -0.32798528,  0.59100905],\n",
    "        [ 0.59100905, -0.73697623,  0.32798528]."
   ]
  },
  {
   "cell_type": "markdown",
   "metadata": {},
   "source": [
    "2."
   ]
  },
  {
   "cell_type": "code",
   "execution_count": 13,
   "metadata": {},
   "outputs": [
    {
     "data": {
      "text/plain": [
       "array([-3.72093206, -6.70488789, -8.36085845])"
      ]
     },
     "execution_count": 13,
     "metadata": {},
     "output_type": "execute_result"
    }
   ],
   "source": [
    "np.dot(A, v[0]) "
   ]
  },
  {
   "cell_type": "code",
   "execution_count": 14,
   "metadata": {},
   "outputs": [
    {
     "data": {
      "text/plain": [
       "array([-3.72093206, -6.70488789, -8.36085845])"
      ]
     },
     "execution_count": 14,
     "metadata": {},
     "output_type": "execute_result"
    }
   ],
   "source": [
    "np.dot(w[0], v[0]) "
   ]
  },
  {
   "cell_type": "code",
   "execution_count": 15,
   "metadata": {},
   "outputs": [
    {
     "data": {
      "text/plain": [
       "array([-42.2132832 , -76.06570795, -94.85238636])"
      ]
     },
     "execution_count": 15,
     "metadata": {},
     "output_type": "execute_result"
    }
   ],
   "source": [
    "np.dot(A, np.dot(A, v[0]) ) "
   ]
  },
  {
   "cell_type": "code",
   "execution_count": 16,
   "metadata": {},
   "outputs": [
    {
     "data": {
      "text/plain": [
       "array([-42.2132832 , -76.06570795, -94.85238636])"
      ]
     },
     "execution_count": 16,
     "metadata": {},
     "output_type": "execute_result"
    }
   ],
   "source": [
    "np.dot(w[0], np.dot(w[0], v[0]) ) "
   ]
  },
  {
   "cell_type": "markdown",
   "metadata": {},
   "source": [
    "3."
   ]
  },
  {
   "cell_type": "code",
   "execution_count": 17,
   "metadata": {},
   "outputs": [
    {
     "name": "stdout",
     "output_type": "stream",
     "text": [
      "-2.220446049250313e-16\n",
      "-1.0547118733938987e-15\n",
      "-4.440892098500626e-16\n"
     ]
    }
   ],
   "source": [
    "print(np.dot(v[0], v[1]))\n",
    "print(np.dot(v[1], v[2]))\n",
    "print(np.dot(v[0], v[2]))\n",
    "#The products are not excatly 0 because the reserved digits of the eigenvectors."
   ]
  },
  {
   "cell_type": "markdown",
   "metadata": {},
   "source": [
    "# Numerical Programming"
   ]
  },
  {
   "cell_type": "markdown",
   "metadata": {},
   "source": [
    "## 7\n",
    "Speed comparison between vectorized and non-vectorized code. Begin by creating an array of 10 million random numbers using the numpy random.randn module. Compute the sum of the squares first in a for loop, then using Numpy's `dot` module. Time how long it takes to compute each and report the results and report the output. How many times faster is the vectorized code than the for loop approach?\n",
    "\n",
    "*Note: all code should be well commented, properly formatted, and your answers should be output using the `print()` function as follows (where the # represents your answers, to a reasonable precision):\n",
    "\n",
    "`Time [sec] (non-vectorized): ######`\n",
    "\n",
    "`Time [sec] (vectorized):     ######`\n",
    "\n",
    "`The vectorized code is ##### times faster than the vectorized code`"
   ]
  },
  {
   "cell_type": "markdown",
   "metadata": {},
   "source": [
    "**ANSWER**"
   ]
  },
  {
   "cell_type": "code",
   "execution_count": 1,
   "metadata": {},
   "outputs": [
    {
     "name": "stdout",
     "output_type": "stream",
     "text": [
      "Time [sec] (non-vectorized):12.70121693611145\n",
      "Time [sec] (vectorized):0.10204648971557617\n",
      "The vectorized code is 123.46500581756672 times faster than the vectorized code\n"
     ]
    }
   ],
   "source": [
    "import numpy as np\n",
    "import time\n",
    "\n",
    "# Generate the random samples\n",
    "random_list = np.random.rand(10000000)\n",
    "# Compute the sum of squares the non-vectorized way (using a for loop)\n",
    "square1 = 0\n",
    "square2 = 0\n",
    "start1 = time.time()\n",
    "for i in range(len(random_list)):\n",
    "    square1 += random_list[i]**2\n",
    "end1 = time.time()\n",
    "# Compute the sum of squares the vectorized way (using numpy)\n",
    "start2 = time.time()\n",
    "square2 = np.dot(random_list,random_list)\n",
    "end2 = time.time()\n",
    "# Print the results\n",
    "n = (end1-start1)/(end2-start2)\n",
    "print ('Time [sec] (non-vectorized):'+str(end1-start1))\n",
    "print ('Time [sec] (vectorized):'+str(end2-start2))\n",
    "print('The vectorized code is '+ str(n-1) + ' times faster than the vectorized code')"
   ]
  },
  {
   "cell_type": "markdown",
   "metadata": {},
   "source": [
    "## 8\n",
    "One popular Agile development framework is Scrum (a paradigm recommended for data science projects). It emphasizes the continual evolution of code for projects, becoming progressively better, but starting with a quickly developed minimum viable product. This often means that code written early on is not optimized, and that's a good thing - it's best to get it to work first before optimizing. Imagine that you wrote the following code during a sprint towards getting an end-to-end system working. Vectorize the following code and show the difference in speed between the current implementation and a vectorized version.\n",
    "\n",
    "The function below computes the function $f(x,y) = x^2 - 2 y^2$ and determines whether this quantity is above or below a given threshold, `thresh=0`. This is done for $x,y \\in \\{-4,4\\}$, over a 2,000-by-2,000 grid covering that domain.\n",
    "\n",
    "(a) Vectorize this code and demonstrate (as in the last exercise) the speed increase through vectorization and (b) plot the resulting data - both the function $f(x,y)$ and the thresholded output - using [`imshow`](https://matplotlib.org/api/_as_gen/matplotlib.pyplot.imshow.html?highlight=matplotlib%20pyplot%20imshow#matplotlib.pyplot.imshow) from `matplotlib`.\n",
    "\n",
    "*Hint: look at the `numpy` [`meshgrid`](https://docs.scipy.org/doc/numpy-1.13.0/reference/generated/numpy.meshgrid.html) documentation*"
   ]
  },
  {
   "cell_type": "code",
   "execution_count": 19,
   "metadata": {},
   "outputs": [],
   "source": [
    "import numpy as np\n",
    "import time\n",
    "import matplotlib.pyplot as plt\n",
    "\n",
    "x = np.linspace(-4,4,2000)\n",
    "y = np.linspace(-4,4,2000)"
   ]
  },
  {
   "cell_type": "code",
   "execution_count": 20,
   "metadata": {},
   "outputs": [],
   "source": [
    "# Nonvectorized implementation\n",
    "w, h = 2000, 2000\n",
    "z_val2 = [[0 for _ in range(w)] for _ in range(h)] \n",
    "z_threshold2 = [[True for _ in range(w)] for _ in range(h)] \n",
    "\n",
    "start1 = time.time()\n",
    "for i in range(w):\n",
    "    for j in range(h):\n",
    "        z_val2[j][i] = x[i]**2 - 2 * y[j]**2\n",
    "        z_threshold2[j][i] = z_val2[j][i] > 0\n",
    "end1 = time.time()"
   ]
  },
  {
   "cell_type": "code",
   "execution_count": 21,
   "metadata": {},
   "outputs": [
    {
     "name": "stdout",
     "output_type": "stream",
     "text": [
      "Time [sec] (non-vectorized):12.954776048660278\n",
      "Time [sec] (vectorized):0.23141741752624512\n",
      "The vectorized code is 54.98012538183767 times faster than the vectorized code\n"
     ]
    }
   ],
   "source": [
    "# Vectorized implementation\n",
    "xx, yy = np.meshgrid(x,y,)\n",
    "\n",
    "start2 = time.time()\n",
    "z_threshold = xx**2 - 2 * yy**2 > 0\n",
    "z_val = xx**2 - 2 * yy**2\n",
    "end2 = time.time()\n",
    "\n",
    "# Print the time for each and the speed increase\n",
    "n = (end1-start1)/(end2-start2)\n",
    "print ('Time [sec] (non-vectorized):'+str(end1-start1))\n",
    "print ('Time [sec] (vectorized):'+str(end2-start2))\n",
    "print('The vectorized code is '+ str(n-1) + ' times faster than the vectorized code')"
   ]
  },
  {
   "cell_type": "code",
   "execution_count": 22,
   "metadata": {},
   "outputs": [
    {
     "data": {
      "image/png": "[encoded data removed]",
      "text/plain": [
       "<Figure size 864x360 with 2 Axes>"
      ]
     },
     "metadata": {},
     "output_type": "display_data"
    }
   ],
   "source": [
    "# Plot the result\n",
    "plt.figure(figsize=(12,5))\n",
    "ax = plt.subplot(1,2,1)\n",
    "ax.imshow(z_threshold2, extent = (-4, 4, -4, 4))\n",
    "ax.set_xlabel('x')\n",
    "ax.set_ylabel('y')\n",
    "ax.set_title('thresholded output')\n",
    "ax = plt.subplot(1,2,2)\n",
    "ax.imshow(z_val2, extent = (-4, 4, -4, 4))\n",
    "ax.set_xlabel('x')\n",
    "ax.set_ylabel('y')\n",
    "ax.set_title('function value')\n",
    "plt.tight_layout()"
   ]
  },
  {
   "cell_type": "markdown",
   "metadata": {},
   "source": [
    "## 9\n",
    "This exercise will walk through some basic numerical programming exercises.\n",
    "1. Synthesize $n=10^4$ normally distributed data points with mean $\\mu=2$ and a standard deviation of $\\sigma=1$. Call these observations from a random variable $X$, and call the vector of observations that you generate, $\\textbf{x}$.\n",
    "2. Calculate the mean and standard deviation of $\\textbf{x}$ to validate (1) and provide the result to a precision of four significant figures.\n",
    "3. Plot a histogram of the data in $\\textbf{x}$ with 30 bins\n",
    "4. What is the 90th percentile of $\\textbf{x}$? The 90th percentile is the value below which 90% of observations can be found.\n",
    "5. What is the 99th percentile of $\\textbf{x}$?\n",
    "6. Now synthesize $n=10^4$ normally distributed data points with mean $\\mu=0$ and a standard deviation of $\\sigma=3$. Call these observations from a random variable $Y$, and call the vector of observations that you generate, $\\textbf{y}$.\n",
    "7. Plot the histogram of the data in $\\textbf{y}$ on a (new) plot with the histogram of $\\textbf{x}$, so that both histograms can be seen and compared.\n",
    "8. Using the observations from $\\textbf{x}$ and $\\textbf{y}$, estimate $E[XY]$"
   ]
  },
  {
   "cell_type": "markdown",
   "metadata": {},
   "source": [
    "**ANSWER**"
   ]
  },
  {
   "cell_type": "code",
   "execution_count": 23,
   "metadata": {},
   "outputs": [
    {
     "name": "stdout",
     "output_type": "stream",
     "text": [
      "2.0088\n",
      "1.0017\n"
     ]
    },
    {
     "data": {
      "image/png": "[encoded data removed]",
      "text/plain": [
       "<Figure size 432x288 with 1 Axes>"
      ]
     },
     "metadata": {},
     "output_type": "display_data"
    },
    {
     "name": "stdout",
     "output_type": "stream",
     "text": [
      "3.290514547425693\n",
      "4.309689611446456\n"
     ]
    },
    {
     "data": {
      "image/png": "[encoded data removed]",
      "text/plain": [
       "<Figure size 432x288 with 1 Axes>"
      ]
     },
     "metadata": {},
     "output_type": "display_data"
    },
    {
     "name": "stdout",
     "output_type": "stream",
     "text": [
      "0.11690819429123755\n"
     ]
    }
   ],
   "source": [
    "# 1\n",
    "x = np.random.randn(10000) + 2\n",
    "\n",
    "# 2\n",
    "print (round(np.mean(x),4))\n",
    "print (round(np.std(x),4))\n",
    "\n",
    "# 3\n",
    "plt.hist(x, bins=30)\n",
    "plt.title(\"Histogram with 30 bins\")\n",
    "plt.xlabel('x')\n",
    "plt.ylabel('frequencies')\n",
    "plt.show()\n",
    "\n",
    "# 4\n",
    "print(np.percentile(x,90))\n",
    "\n",
    "# 5\n",
    "print(np.percentile(x,99))\n",
    "\n",
    "# 6\n",
    "y = 3*np.random.randn(10000)\n",
    "\n",
    "# 7\n",
    "plt.hist(x, 30, alpha=0.5, label='x')\n",
    "plt.hist(y, 30, alpha=0.5, label='y')\n",
    "plt.legend(loc='upper right')\n",
    "plt.ylabel('frequencies')\n",
    "plt.show()\n",
    "\n",
    "# 8\n",
    "#Because X and Y are indepent, E[XY] = E[X]E[Y]\n",
    "print(np.mean(x)*np.mean(y))"
   ]
  },
  {
   "cell_type": "markdown",
   "metadata": {},
   "source": [
    "## 10\n",
    "Estimate the integral of the function $f(x)$ on the interval $0\\leq x < 2.5$ assuming we only know the following points from $f$:\n",
    "\n",
    "*Table 1. Dataset containing n=5 observations*\n",
    "\n",
    "| $x_i$ | 0.0 | 0.5 | 1.0 | 1.5 | 2.0 |\n",
    "|-|-|-|-|-|-|\n",
    "| $y_i$ | 6 | 7 | 8 | 4 | 1 |\n"
   ]
  },
  {
   "cell_type": "markdown",
   "metadata": {},
   "source": [
    "**ANSWER**\n",
    "\n"
   ]
  },
  {
   "cell_type": "code",
   "execution_count": 24,
   "metadata": {},
   "outputs": [
    {
     "name": "stdout",
     "output_type": "stream",
     "text": [
      "The estimated integral is 13.0\n"
     ]
    }
   ],
   "source": [
    "y = np.array([6,7,8,4,1])\n",
    "x = np.repeat(0.5,5)\n",
    "est_int = np.dot(y,x)\n",
    "print('The estimated integral is ' + str(est_int))"
   ]
  },
  {
   "cell_type": "markdown",
   "metadata": {
    "collapsed": true
   },
   "source": [
    "# Version Control via Git"
   ]
  },
  {
   "cell_type": "markdown",
   "metadata": {},
   "source": [
    "## 11\n",
    "Complete the [Atlassian Git tutorial](https://www.atlassian.com/git/tutorials/what-is-version-control), specifically the following sections. Try each concept that's presented. For this tutorial, instead of using BitBucket, use Github. Create a github account here if you don't already have one: https://github.com/\n",
    "1. [What is version control](https://www.atlassian.com/git/tutorials/what-is-version-control)\n",
    "2. [What is Git](https://www.atlassian.com/git/tutorials/what-is-git)\n",
    "3. [Install Git](https://www.atlassian.com/git/tutorials/install-git)\n",
    "4. [Setting up a repository](https://www.atlassian.com/git/tutorials/install-git)\n",
    "5. [Saving changes](https://www.atlassian.com/git/tutorials/saving-changes)\n",
    "6. [Inspecting a repository](https://www.atlassian.com/git/tutorials/inspecting-a-repository)\n",
    "7. [Undoing changes](https://www.atlassian.com/git/tutorials/undoing-changes)\n",
    "8. [Rewriting history](https://www.atlassian.com/git/tutorials/rewriting-history)\n",
    "9. [Syncing](https://www.atlassian.com/git/tutorials/syncing)\n",
    "10. [Making a pull request](https://www.atlassian.com/git/tutorials/making-a-pull-request)\n",
    "11. [Using branches](https://www.atlassian.com/git/tutorials/using-branches)\n",
    "12. [Comparing workflows](https://www.atlassian.com/git/tutorials/comparing-workflows)\n",
    "\n",
    "For your answer, affirm that you either completed the tutorial or have previous experience with all of the concepts above. Do this by typing your name below and selecting the situation that applies from the two options in brackets."
   ]
  },
  {
   "cell_type": "markdown",
   "metadata": {},
   "source": [
    "**ANSWER**\n",
    "\n",
    "*I, [**Muxin Yolanda Diao**], affirm that I have [**completed the above tutorial**]*"
   ]
  },
  {
   "cell_type": "markdown",
   "metadata": {},
   "source": [
    "## 12\n",
    "Using Github to create a static HTML website:\n",
    "1. Create a branch in your `machine-learning-course` repo called \"gh-pages\" and checkout that branch (this will provide an example of how to create a simple static website using [Github Pages](https://pages.github.com/))\n",
    "2. Create a file called \"index.html\" with the contents \"Hello World\" and add, commit, and push it to that branch.\n",
    "3. Submit the following: (a) a link to your github repository and (b) a link to your new \"Hello World\" website. The latter should be at the address https://[USERNAME].github.io/ECE590-assignment0 (where [USERNAME] is your github username)."
   ]
  },
  {
   "cell_type": "markdown",
   "metadata": {},
   "source": [
    "**ANSWER**\n",
    "\n"
   ]
  },
  {
   "cell_type": "markdown",
   "metadata": {},
   "source": [
    "1. https://github.com/ulandddda/machine-learning-course"
   ]
  },
  {
   "cell_type": "markdown",
   "metadata": {},
   "source": [
    "2. https://ulandddda.github.io/machine-learning-course"
   ]
  },
  {
   "cell_type": "markdown",
   "metadata": {
    "collapsed": true
   },
   "source": [
    "# Exploratory Data Analysis\n",
    "## 13\n",
    "Here you'll bring together some of the individual skills that you demonstrated above and create a Jupyter notebook based blog post on data analysis.\n",
    "\n",
    "1. Find a dataset that interests you and relates to a question or problem that you find intriguing\n",
    "2. Using a Jupyter notebook, describe the dataset, the source of the data, and the reason the dataset was of interest.\n",
    "3. Check the data and see if they need to be cleaned: are there missing values? Are there clearly erroneous values? Do two tables need to be merged together? Clean the data so it can be visualized.\n",
    "3. Plot the data, demonstrating interesting features that you discover. Are there any relationships between variables that were surprising or patterns that emerged? Please exercise creativity and curiosity in your plots.\n",
    "4. What insights are you able to take away from exploring the data? Is there a reason why analyzing the dataset you chose is particularly interesting or important? Summarize this as if your target audience was the readership of a major news organization - boil down your findings in a way that is accessible, but still accurate.\n",
    "5. Create a public repository on your github account titled \"machine-learning-course\". In it, create a readme file that contains the heading \"ECE590: Introductory Machine Learning for Data Science\". Add, commit, and push that Jupyter notebook to the master branch. Provide the link to the that post here."
   ]
  },
  {
   "cell_type": "markdown",
   "metadata": {},
   "source": [
    "**ANSWER**\n",
    "\n"
   ]
  },
  {
   "cell_type": "code",
   "execution_count": 25,
   "metadata": {},
   "outputs": [],
   "source": [
    "import pandas as pd"
   ]
  },
  {
   "cell_type": "markdown",
   "metadata": {},
   "source": [
    "I am interested in financial data analysis, so I extracted a dataset from St. Louis Fed data repository https://fred.stlouisfed.org of interest rates, including High-Quality corporate bond yield and US Treasury yield."
   ]
  },
  {
   "cell_type": "code",
   "execution_count": 73,
   "metadata": {},
   "outputs": [],
   "source": [
    "fed_credit_data = pd.read_csv('Fed_Credit_Spread.csv', date_parser= pd.to_datetime, index_col='date', parse_dates=['date'])"
   ]
  },
  {
   "cell_type": "markdown",
   "metadata": {},
   "source": [
    "Let's see a few rows of this time series dataset."
   ]
  },
  {
   "cell_type": "code",
   "execution_count": 74,
   "metadata": {},
   "outputs": [
    {
     "data": {
      "text/html": [
       "<div>\n",
       "<style scoped>\n",
       "    .dataframe tbody tr th:only-of-type {\n",
       "        vertical-align: middle;\n",
       "    }\n",
       "\n",
       "    .dataframe tbody tr th {\n",
       "        vertical-align: top;\n",
       "    }\n",
       "\n",
       "    .dataframe thead th {\n",
       "        text-align: right;\n",
       "    }\n",
       "</style>\n",
       "<table border=\"1\" class=\"dataframe\">\n",
       "  <thead>\n",
       "    <tr style=\"text-align: right;\">\n",
       "      <th></th>\n",
       "      <th>HQMCB2YRP</th>\n",
       "      <th>HQMCB5YRP</th>\n",
       "      <th>HQMCB10YRP</th>\n",
       "      <th>DGS2</th>\n",
       "      <th>DGS5</th>\n",
       "      <th>DGS10</th>\n",
       "      <th>2yr_Spread</th>\n",
       "      <th>5yr_Spread</th>\n",
       "      <th>10yr_Spread</th>\n",
       "    </tr>\n",
       "    <tr>\n",
       "      <th>date</th>\n",
       "      <th></th>\n",
       "      <th></th>\n",
       "      <th></th>\n",
       "      <th></th>\n",
       "      <th></th>\n",
       "      <th></th>\n",
       "      <th></th>\n",
       "      <th></th>\n",
       "      <th></th>\n",
       "    </tr>\n",
       "  </thead>\n",
       "  <tbody>\n",
       "    <tr>\n",
       "      <th>1984-01-01</th>\n",
       "      <td>11.4</td>\n",
       "      <td>12.0</td>\n",
       "      <td>12.6</td>\n",
       "      <td>10.6</td>\n",
       "      <td>11.4</td>\n",
       "      <td>11.7</td>\n",
       "      <td>0.7</td>\n",
       "      <td>0.6</td>\n",
       "      <td>0.9</td>\n",
       "    </tr>\n",
       "    <tr>\n",
       "      <th>1984-02-01</th>\n",
       "      <td>11.4</td>\n",
       "      <td>12.2</td>\n",
       "      <td>12.5</td>\n",
       "      <td>10.8</td>\n",
       "      <td>11.5</td>\n",
       "      <td>11.8</td>\n",
       "      <td>0.6</td>\n",
       "      <td>0.7</td>\n",
       "      <td>0.7</td>\n",
       "    </tr>\n",
       "    <tr>\n",
       "      <th>1984-03-01</th>\n",
       "      <td>11.9</td>\n",
       "      <td>12.5</td>\n",
       "      <td>12.9</td>\n",
       "      <td>11.3</td>\n",
       "      <td>12.0</td>\n",
       "      <td>12.3</td>\n",
       "      <td>0.6</td>\n",
       "      <td>0.5</td>\n",
       "      <td>0.6</td>\n",
       "    </tr>\n",
       "    <tr>\n",
       "      <th>1984-04-01</th>\n",
       "      <td>12.2</td>\n",
       "      <td>12.9</td>\n",
       "      <td>13.1</td>\n",
       "      <td>11.7</td>\n",
       "      <td>12.4</td>\n",
       "      <td>12.6</td>\n",
       "      <td>0.5</td>\n",
       "      <td>0.5</td>\n",
       "      <td>0.4</td>\n",
       "    </tr>\n",
       "    <tr>\n",
       "      <th>1984-05-01</th>\n",
       "      <td>12.8</td>\n",
       "      <td>13.6</td>\n",
       "      <td>13.6</td>\n",
       "      <td>12.5</td>\n",
       "      <td>13.2</td>\n",
       "      <td>13.4</td>\n",
       "      <td>0.4</td>\n",
       "      <td>0.4</td>\n",
       "      <td>0.2</td>\n",
       "    </tr>\n",
       "  </tbody>\n",
       "</table>\n",
       "</div>"
      ],
      "text/plain": [
       "            HQMCB2YRP  HQMCB5YRP  HQMCB10YRP  DGS2  DGS5  DGS10  2yr_Spread  \\\n",
       "date                                                                          \n",
       "1984-01-01       11.4       12.0        12.6  10.6  11.4   11.7         0.7   \n",
       "1984-02-01       11.4       12.2        12.5  10.8  11.5   11.8         0.6   \n",
       "1984-03-01       11.9       12.5        12.9  11.3  12.0   12.3         0.6   \n",
       "1984-04-01       12.2       12.9        13.1  11.7  12.4   12.6         0.5   \n",
       "1984-05-01       12.8       13.6        13.6  12.5  13.2   13.4         0.4   \n",
       "\n",
       "            5yr_Spread  10yr_Spread  \n",
       "date                                 \n",
       "1984-01-01         0.6          0.9  \n",
       "1984-02-01         0.7          0.7  \n",
       "1984-03-01         0.5          0.6  \n",
       "1984-04-01         0.5          0.4  \n",
       "1984-05-01         0.4          0.2  "
      ]
     },
     "execution_count": 74,
     "metadata": {},
     "output_type": "execute_result"
    }
   ],
   "source": [
    "fed_credit_data.head()"
   ]
  },
  {
   "cell_type": "markdown",
   "metadata": {},
   "source": [
    "The HQMCB2YRP represents the High-Quality corporate bond yield with maturity 2 years, HQMCB5YRP represents the High-Quality corporate bond yield with maturity 5 years and HQMCB10YRP represents the High-Quality corporate bond yield with maturity 10 years. \n",
    "\n",
    "The DGS2 represents US Treasury yield with maturity 2 years, DGS5 represents US Treasury yield with maturity 5 years, and DGS10 represents US Treasury yield with maturity 10 years.\n",
    "\n",
    "The 2yr_Spread is the credit spread of High-Quality companies, which is HQMCB2YRP minus DGS2. Similar with the last two columns.\n",
    "\n",
    "To understand better about each column of the dataset, the mean, standard deviation and quantiles are summarized below."
   ]
  },
  {
   "cell_type": "code",
   "execution_count": 75,
   "metadata": {},
   "outputs": [
    {
     "data": {
      "text/html": [
       "<div>\n",
       "<style scoped>\n",
       "    .dataframe tbody tr th:only-of-type {\n",
       "        vertical-align: middle;\n",
       "    }\n",
       "\n",
       "    .dataframe tbody tr th {\n",
       "        vertical-align: top;\n",
       "    }\n",
       "\n",
       "    .dataframe thead th {\n",
       "        text-align: right;\n",
       "    }\n",
       "</style>\n",
       "<table border=\"1\" class=\"dataframe\">\n",
       "  <thead>\n",
       "    <tr style=\"text-align: right;\">\n",
       "      <th></th>\n",
       "      <th>HQMCB2YRP</th>\n",
       "      <th>HQMCB5YRP</th>\n",
       "      <th>HQMCB10YRP</th>\n",
       "      <th>DGS2</th>\n",
       "      <th>DGS5</th>\n",
       "      <th>DGS10</th>\n",
       "      <th>2yr_Spread</th>\n",
       "      <th>5yr_Spread</th>\n",
       "      <th>10yr_Spread</th>\n",
       "    </tr>\n",
       "  </thead>\n",
       "  <tbody>\n",
       "    <tr>\n",
       "      <th>count</th>\n",
       "      <td>419.000000</td>\n",
       "      <td>419.000000</td>\n",
       "      <td>419.00000</td>\n",
       "      <td>419.000000</td>\n",
       "      <td>419.000000</td>\n",
       "      <td>419.000000</td>\n",
       "      <td>419.000000</td>\n",
       "      <td>419.000000</td>\n",
       "      <td>419.000000</td>\n",
       "    </tr>\n",
       "    <tr>\n",
       "      <th>mean</th>\n",
       "      <td>5.110979</td>\n",
       "      <td>5.919809</td>\n",
       "      <td>6.61074</td>\n",
       "      <td>4.300477</td>\n",
       "      <td>4.909547</td>\n",
       "      <td>5.428401</td>\n",
       "      <td>0.815513</td>\n",
       "      <td>1.010263</td>\n",
       "      <td>1.188305</td>\n",
       "    </tr>\n",
       "    <tr>\n",
       "      <th>std</th>\n",
       "      <td>2.965289</td>\n",
       "      <td>2.744601</td>\n",
       "      <td>2.40976</td>\n",
       "      <td>3.007884</td>\n",
       "      <td>2.831353</td>\n",
       "      <td>2.618088</td>\n",
       "      <td>0.689617</td>\n",
       "      <td>0.669188</td>\n",
       "      <td>0.615728</td>\n",
       "    </tr>\n",
       "    <tr>\n",
       "      <th>min</th>\n",
       "      <td>0.800000</td>\n",
       "      <td>1.500000</td>\n",
       "      <td>2.90000</td>\n",
       "      <td>0.200000</td>\n",
       "      <td>0.600000</td>\n",
       "      <td>1.500000</td>\n",
       "      <td>0.200000</td>\n",
       "      <td>0.400000</td>\n",
       "      <td>0.200000</td>\n",
       "    </tr>\n",
       "    <tr>\n",
       "      <th>25%</th>\n",
       "      <td>2.150000</td>\n",
       "      <td>3.650000</td>\n",
       "      <td>4.85000</td>\n",
       "      <td>1.300000</td>\n",
       "      <td>2.400000</td>\n",
       "      <td>3.350000</td>\n",
       "      <td>0.500000</td>\n",
       "      <td>0.600000</td>\n",
       "      <td>0.800000</td>\n",
       "    </tr>\n",
       "    <tr>\n",
       "      <th>50%</th>\n",
       "      <td>5.200000</td>\n",
       "      <td>5.800000</td>\n",
       "      <td>6.40000</td>\n",
       "      <td>4.400000</td>\n",
       "      <td>4.800000</td>\n",
       "      <td>5.100000</td>\n",
       "      <td>0.700000</td>\n",
       "      <td>0.800000</td>\n",
       "      <td>1.000000</td>\n",
       "    </tr>\n",
       "    <tr>\n",
       "      <th>75%</th>\n",
       "      <td>7.200000</td>\n",
       "      <td>7.700000</td>\n",
       "      <td>8.20000</td>\n",
       "      <td>6.300000</td>\n",
       "      <td>6.800000</td>\n",
       "      <td>7.200000</td>\n",
       "      <td>0.900000</td>\n",
       "      <td>1.200000</td>\n",
       "      <td>1.400000</td>\n",
       "    </tr>\n",
       "    <tr>\n",
       "      <th>max</th>\n",
       "      <td>13.100000</td>\n",
       "      <td>14.000000</td>\n",
       "      <td>13.80000</td>\n",
       "      <td>12.900000</td>\n",
       "      <td>13.500000</td>\n",
       "      <td>13.600000</td>\n",
       "      <td>6.100000</td>\n",
       "      <td>5.400000</td>\n",
       "      <td>4.800000</td>\n",
       "    </tr>\n",
       "  </tbody>\n",
       "</table>\n",
       "</div>"
      ],
      "text/plain": [
       "        HQMCB2YRP   HQMCB5YRP  HQMCB10YRP        DGS2        DGS5       DGS10  \\\n",
       "count  419.000000  419.000000   419.00000  419.000000  419.000000  419.000000   \n",
       "mean     5.110979    5.919809     6.61074    4.300477    4.909547    5.428401   \n",
       "std      2.965289    2.744601     2.40976    3.007884    2.831353    2.618088   \n",
       "min      0.800000    1.500000     2.90000    0.200000    0.600000    1.500000   \n",
       "25%      2.150000    3.650000     4.85000    1.300000    2.400000    3.350000   \n",
       "50%      5.200000    5.800000     6.40000    4.400000    4.800000    5.100000   \n",
       "75%      7.200000    7.700000     8.20000    6.300000    6.800000    7.200000   \n",
       "max     13.100000   14.000000    13.80000   12.900000   13.500000   13.600000   \n",
       "\n",
       "       2yr_Spread  5yr_Spread  10yr_Spread  \n",
       "count  419.000000  419.000000   419.000000  \n",
       "mean     0.815513    1.010263     1.188305  \n",
       "std      0.689617    0.669188     0.615728  \n",
       "min      0.200000    0.400000     0.200000  \n",
       "25%      0.500000    0.600000     0.800000  \n",
       "50%      0.700000    0.800000     1.000000  \n",
       "75%      0.900000    1.200000     1.400000  \n",
       "max      6.100000    5.400000     4.800000  "
      ]
     },
     "execution_count": 75,
     "metadata": {},
     "output_type": "execute_result"
    }
   ],
   "source": [
    "fed_credit_data.describe()"
   ]
  },
  {
   "cell_type": "markdown",
   "metadata": {},
   "source": [
    "To explore credit spreads, people often cares about equity market, especially the volatility of the equity market. VIX is an index measuring the overall volatility of the US equity market, which is constructed by CBOE. I extracted a VIX index data from CBOE website and read the weekly VIX time series."
   ]
  },
  {
   "cell_type": "code",
   "execution_count": 76,
   "metadata": {},
   "outputs": [],
   "source": [
    "vix_weekly_data = pd.read_csv('VIX_Weekly.csv', parse_dates=['Date'], date_parser= pd.to_datetime, index_col='Date')"
   ]
  },
  {
   "cell_type": "markdown",
   "metadata": {},
   "source": [
    "Since it's weekly data, I resampled the time series to keep the last value of one month as the monthly VIX level so that I can join the two dataset."
   ]
  },
  {
   "cell_type": "code",
   "execution_count": 77,
   "metadata": {},
   "outputs": [
    {
     "data": {
      "text/html": [
       "<div>\n",
       "<style scoped>\n",
       "    .dataframe tbody tr th:only-of-type {\n",
       "        vertical-align: middle;\n",
       "    }\n",
       "\n",
       "    .dataframe tbody tr th {\n",
       "        vertical-align: top;\n",
       "    }\n",
       "\n",
       "    .dataframe thead th {\n",
       "        text-align: right;\n",
       "    }\n",
       "</style>\n",
       "<table border=\"1\" class=\"dataframe\">\n",
       "  <thead>\n",
       "    <tr style=\"text-align: right;\">\n",
       "      <th></th>\n",
       "      <th>VIX</th>\n",
       "    </tr>\n",
       "    <tr>\n",
       "      <th>Date</th>\n",
       "      <th></th>\n",
       "    </tr>\n",
       "  </thead>\n",
       "  <tbody>\n",
       "    <tr>\n",
       "      <th>1990-01-31</th>\n",
       "      <td>26.28</td>\n",
       "    </tr>\n",
       "    <tr>\n",
       "      <th>1990-02-28</th>\n",
       "      <td>23.69</td>\n",
       "    </tr>\n",
       "    <tr>\n",
       "      <th>1990-03-31</th>\n",
       "      <td>19.73</td>\n",
       "    </tr>\n",
       "    <tr>\n",
       "      <th>1990-04-30</th>\n",
       "      <td>22.19</td>\n",
       "    </tr>\n",
       "    <tr>\n",
       "      <th>1990-05-31</th>\n",
       "      <td>17.32</td>\n",
       "    </tr>\n",
       "  </tbody>\n",
       "</table>\n",
       "</div>"
      ],
      "text/plain": [
       "              VIX\n",
       "Date             \n",
       "1990-01-31  26.28\n",
       "1990-02-28  23.69\n",
       "1990-03-31  19.73\n",
       "1990-04-30  22.19\n",
       "1990-05-31  17.32"
      ]
     },
     "execution_count": 77,
     "metadata": {},
     "output_type": "execute_result"
    }
   ],
   "source": [
    "# resample VIX\n",
    "vix_monthly_data = vix_weekly_data.resample('M').last()\n",
    "# change column name\n",
    "vix_monthly_data.rename(columns={'Last Price':'VIX'}, inplace=True)\n",
    "vix_monthly_data.head()"
   ]
  },
  {
   "cell_type": "markdown",
   "metadata": {},
   "source": [
    "As you can see, the indexing dates are the end of the month, which is different of the first dataset. To make it consistent, I switched the first dataset into E.O.M indexing."
   ]
  },
  {
   "cell_type": "code",
   "execution_count": 78,
   "metadata": {},
   "outputs": [
    {
     "data": {
      "text/html": [
       "<div>\n",
       "<style scoped>\n",
       "    .dataframe tbody tr th:only-of-type {\n",
       "        vertical-align: middle;\n",
       "    }\n",
       "\n",
       "    .dataframe tbody tr th {\n",
       "        vertical-align: top;\n",
       "    }\n",
       "\n",
       "    .dataframe thead th {\n",
       "        text-align: right;\n",
       "    }\n",
       "</style>\n",
       "<table border=\"1\" class=\"dataframe\">\n",
       "  <thead>\n",
       "    <tr style=\"text-align: right;\">\n",
       "      <th></th>\n",
       "      <th>HQMCB2YRP</th>\n",
       "      <th>HQMCB5YRP</th>\n",
       "      <th>HQMCB10YRP</th>\n",
       "      <th>DGS2</th>\n",
       "      <th>DGS5</th>\n",
       "      <th>DGS10</th>\n",
       "      <th>2yr_Spread</th>\n",
       "      <th>5yr_Spread</th>\n",
       "      <th>10yr_Spread</th>\n",
       "    </tr>\n",
       "    <tr>\n",
       "      <th>date</th>\n",
       "      <th></th>\n",
       "      <th></th>\n",
       "      <th></th>\n",
       "      <th></th>\n",
       "      <th></th>\n",
       "      <th></th>\n",
       "      <th></th>\n",
       "      <th></th>\n",
       "      <th></th>\n",
       "    </tr>\n",
       "  </thead>\n",
       "  <tbody>\n",
       "    <tr>\n",
       "      <th>1983-12-31</th>\n",
       "      <td>11.4</td>\n",
       "      <td>12.0</td>\n",
       "      <td>12.6</td>\n",
       "      <td>10.6</td>\n",
       "      <td>11.4</td>\n",
       "      <td>11.7</td>\n",
       "      <td>0.7</td>\n",
       "      <td>0.6</td>\n",
       "      <td>0.9</td>\n",
       "    </tr>\n",
       "    <tr>\n",
       "      <th>1984-01-31</th>\n",
       "      <td>11.4</td>\n",
       "      <td>12.2</td>\n",
       "      <td>12.5</td>\n",
       "      <td>10.8</td>\n",
       "      <td>11.5</td>\n",
       "      <td>11.8</td>\n",
       "      <td>0.6</td>\n",
       "      <td>0.7</td>\n",
       "      <td>0.7</td>\n",
       "    </tr>\n",
       "    <tr>\n",
       "      <th>1984-02-29</th>\n",
       "      <td>11.9</td>\n",
       "      <td>12.5</td>\n",
       "      <td>12.9</td>\n",
       "      <td>11.3</td>\n",
       "      <td>12.0</td>\n",
       "      <td>12.3</td>\n",
       "      <td>0.6</td>\n",
       "      <td>0.5</td>\n",
       "      <td>0.6</td>\n",
       "    </tr>\n",
       "    <tr>\n",
       "      <th>1984-03-31</th>\n",
       "      <td>12.2</td>\n",
       "      <td>12.9</td>\n",
       "      <td>13.1</td>\n",
       "      <td>11.7</td>\n",
       "      <td>12.4</td>\n",
       "      <td>12.6</td>\n",
       "      <td>0.5</td>\n",
       "      <td>0.5</td>\n",
       "      <td>0.4</td>\n",
       "    </tr>\n",
       "    <tr>\n",
       "      <th>1984-04-30</th>\n",
       "      <td>12.8</td>\n",
       "      <td>13.6</td>\n",
       "      <td>13.6</td>\n",
       "      <td>12.5</td>\n",
       "      <td>13.2</td>\n",
       "      <td>13.4</td>\n",
       "      <td>0.4</td>\n",
       "      <td>0.4</td>\n",
       "      <td>0.2</td>\n",
       "    </tr>\n",
       "  </tbody>\n",
       "</table>\n",
       "</div>"
      ],
      "text/plain": [
       "            HQMCB2YRP  HQMCB5YRP  HQMCB10YRP  DGS2  DGS5  DGS10  2yr_Spread  \\\n",
       "date                                                                          \n",
       "1983-12-31       11.4       12.0        12.6  10.6  11.4   11.7         0.7   \n",
       "1984-01-31       11.4       12.2        12.5  10.8  11.5   11.8         0.6   \n",
       "1984-02-29       11.9       12.5        12.9  11.3  12.0   12.3         0.6   \n",
       "1984-03-31       12.2       12.9        13.1  11.7  12.4   12.6         0.5   \n",
       "1984-04-30       12.8       13.6        13.6  12.5  13.2   13.4         0.4   \n",
       "\n",
       "            5yr_Spread  10yr_Spread  \n",
       "date                                 \n",
       "1983-12-31         0.6          0.9  \n",
       "1984-01-31         0.7          0.7  \n",
       "1984-02-29         0.5          0.6  \n",
       "1984-03-31         0.5          0.4  \n",
       "1984-04-30         0.4          0.2  "
      ]
     },
     "execution_count": 78,
     "metadata": {},
     "output_type": "execute_result"
    }
   ],
   "source": [
    "fed_credit_data.rename(index={x:x-pd.Timedelta('1 days') for x in fed_credit_data.index}, inplace=True)\n",
    "fed_credit_data.head()"
   ]
  },
  {
   "cell_type": "markdown",
   "metadata": {},
   "source": [
    "Now I inner joined the two datasets."
   ]
  },
  {
   "cell_type": "code",
   "execution_count": 79,
   "metadata": {},
   "outputs": [
    {
     "data": {
      "text/html": [
       "<div>\n",
       "<style scoped>\n",
       "    .dataframe tbody tr th:only-of-type {\n",
       "        vertical-align: middle;\n",
       "    }\n",
       "\n",
       "    .dataframe tbody tr th {\n",
       "        vertical-align: top;\n",
       "    }\n",
       "\n",
       "    .dataframe thead th {\n",
       "        text-align: right;\n",
       "    }\n",
       "</style>\n",
       "<table border=\"1\" class=\"dataframe\">\n",
       "  <thead>\n",
       "    <tr style=\"text-align: right;\">\n",
       "      <th></th>\n",
       "      <th>HQMCB2YRP</th>\n",
       "      <th>HQMCB5YRP</th>\n",
       "      <th>HQMCB10YRP</th>\n",
       "      <th>DGS2</th>\n",
       "      <th>DGS5</th>\n",
       "      <th>DGS10</th>\n",
       "      <th>2yr_Spread</th>\n",
       "      <th>5yr_Spread</th>\n",
       "      <th>10yr_Spread</th>\n",
       "      <th>VIX</th>\n",
       "    </tr>\n",
       "  </thead>\n",
       "  <tbody>\n",
       "    <tr>\n",
       "      <th>1990-01-31</th>\n",
       "      <td>9.2</td>\n",
       "      <td>9.4</td>\n",
       "      <td>9.4</td>\n",
       "      <td>8.4</td>\n",
       "      <td>8.4</td>\n",
       "      <td>8.5</td>\n",
       "      <td>0.8</td>\n",
       "      <td>1.0</td>\n",
       "      <td>1.0</td>\n",
       "      <td>26.28</td>\n",
       "    </tr>\n",
       "    <tr>\n",
       "      <th>1990-02-28</th>\n",
       "      <td>9.2</td>\n",
       "      <td>9.5</td>\n",
       "      <td>9.5</td>\n",
       "      <td>8.6</td>\n",
       "      <td>8.6</td>\n",
       "      <td>8.6</td>\n",
       "      <td>0.6</td>\n",
       "      <td>0.9</td>\n",
       "      <td>0.9</td>\n",
       "      <td>23.69</td>\n",
       "    </tr>\n",
       "    <tr>\n",
       "      <th>1990-03-31</th>\n",
       "      <td>9.4</td>\n",
       "      <td>9.6</td>\n",
       "      <td>9.6</td>\n",
       "      <td>8.7</td>\n",
       "      <td>8.8</td>\n",
       "      <td>8.8</td>\n",
       "      <td>0.7</td>\n",
       "      <td>0.8</td>\n",
       "      <td>0.9</td>\n",
       "      <td>19.73</td>\n",
       "    </tr>\n",
       "    <tr>\n",
       "      <th>1990-04-30</th>\n",
       "      <td>9.4</td>\n",
       "      <td>9.7</td>\n",
       "      <td>9.6</td>\n",
       "      <td>8.6</td>\n",
       "      <td>8.7</td>\n",
       "      <td>8.8</td>\n",
       "      <td>0.8</td>\n",
       "      <td>1.0</td>\n",
       "      <td>0.9</td>\n",
       "      <td>22.19</td>\n",
       "    </tr>\n",
       "    <tr>\n",
       "      <th>1990-05-31</th>\n",
       "      <td>9.1</td>\n",
       "      <td>9.4</td>\n",
       "      <td>9.4</td>\n",
       "      <td>8.4</td>\n",
       "      <td>8.4</td>\n",
       "      <td>8.5</td>\n",
       "      <td>0.8</td>\n",
       "      <td>1.0</td>\n",
       "      <td>0.9</td>\n",
       "      <td>17.32</td>\n",
       "    </tr>\n",
       "  </tbody>\n",
       "</table>\n",
       "</div>"
      ],
      "text/plain": [
       "            HQMCB2YRP  HQMCB5YRP  HQMCB10YRP  DGS2  DGS5  DGS10  2yr_Spread  \\\n",
       "1990-01-31        9.2        9.4         9.4   8.4   8.4    8.5         0.8   \n",
       "1990-02-28        9.2        9.5         9.5   8.6   8.6    8.6         0.6   \n",
       "1990-03-31        9.4        9.6         9.6   8.7   8.8    8.8         0.7   \n",
       "1990-04-30        9.4        9.7         9.6   8.6   8.7    8.8         0.8   \n",
       "1990-05-31        9.1        9.4         9.4   8.4   8.4    8.5         0.8   \n",
       "\n",
       "            5yr_Spread  10yr_Spread    VIX  \n",
       "1990-01-31         1.0          1.0  26.28  \n",
       "1990-02-28         0.9          0.9  23.69  \n",
       "1990-03-31         0.8          0.9  19.73  \n",
       "1990-04-30         1.0          0.9  22.19  \n",
       "1990-05-31         1.0          0.9  17.32  "
      ]
     },
     "execution_count": 79,
     "metadata": {},
     "output_type": "execute_result"
    }
   ],
   "source": [
    "fed_data_joined = fed_credit_data.join(vix_monthly_data, how = 'inner')\n",
    "fed_data_joined.head()"
   ]
  },
  {
   "cell_type": "markdown",
   "metadata": {},
   "source": [
    "The dataset is clean. Next I plotted the series of each variable."
   ]
  },
  {
   "cell_type": "code",
   "execution_count": 91,
   "metadata": {},
   "outputs": [
    {
     "data": {
      "image/png": "[encoded data removed]",
      "text/plain": [
       "<Figure size 864x720 with 3 Axes>"
      ]
     },
     "metadata": {
      "needs_background": "light"
     },
     "output_type": "display_data"
    }
   ],
   "source": [
    "import matplotlib.pyplot as plt\n",
    "\n",
    "plt.figure(figsize=(12,10))\n",
    "\n",
    "ax = plt.subplot(3,1,1)\n",
    "ax.plot(fed_data_joined.iloc[:,0], label='2yr hq yield')\n",
    "ax.plot(fed_data_joined.iloc[:,1], label='5yr hq yield')\n",
    "ax.plot(fed_data_joined.iloc[:,2], label='10yr hq yield')\n",
    "ax.plot(fed_data_joined.iloc[:,3], ':', label='2yr treasury yield')\n",
    "ax.plot(fed_data_joined.iloc[:,4], ':', label='5yr treasury yield')\n",
    "ax.plot(fed_data_joined.iloc[:,5], ':', label='10yr treasury yield')\n",
    "ax.legend()\n",
    "ax.set_xlabel('time')\n",
    "ax.set_ylabel('interest rate')\n",
    "\n",
    "ax = plt.subplot(3,1,2)\n",
    "ax.plot(fed_data_joined.iloc[:,6], label='2yr credit spread')\n",
    "ax.plot(fed_data_joined.iloc[:,7], label='5yr credit spread')\n",
    "ax.plot(fed_data_joined.iloc[:,8], label='10yr credit spread')\n",
    "ax.legend()\n",
    "ax.set_xlabel('time')\n",
    "ax.set_ylabel('credit spread')\n",
    "\n",
    "ax = plt.subplot(3,1,3)\n",
    "ax.plot(fed_data_joined.iloc[:,9],label = 'VIX monthly')\n",
    "ax.legend()\n",
    "ax.set_xlabel('time')\n",
    "ax.set_ylabel('VIX')\n",
    "plt.tight_layout()"
   ]
  },
  {
   "cell_type": "markdown",
   "metadata": {},
   "source": [
    "From these plots, we can discover that all yield data are highly correlated. From maturity perspective, the longer maturity, the higher yield, because the longer maturity, the higher risk undertaken. From yield type perspective, if we keep the maturity the same, corporate yield is always higher than treasury yield, thus the credit spread series is always positive, which is due to the fact that treasury bonds have less risk than corporate bonds. We also noted that spread data is highly correlated with VIX data, and during 1998 and 2008-2009, the spread spikes sigificantly, because of financial crisis."
   ]
  },
  {
   "cell_type": "markdown",
   "metadata": {},
   "source": []
  }
 ],
 "metadata": {
  "kernelspec": {
   "display_name": "Python 3",
   "language": "python",
   "name": "python3"
  },
  "language_info": {
   "codemirror_mode": {
    "name": "ipython",
    "version": 3
   },
   "file_extension": ".py",
   "mimetype": "text/x-python",
   "name": "python",
   "nbconvert_exporter": "python",
   "pygments_lexer": "ipython3",
   "version": "3.6.5"
  }
 },
 "nbformat": 4,
 "nbformat_minor": 2
}
